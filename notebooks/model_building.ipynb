{
 "cells": [
  {
   "cell_type": "markdown",
   "metadata": {},
   "source": [
    "Build a regression model."
   ]
  },
  {
   "cell_type": "code",
   "execution_count": 23,
   "metadata": {},
   "outputs": [],
   "source": [
    "import sqlite3\n",
    "import pandas as pd\n",
    "import numpy as np\n",
    "from sklearn.linear_model import LinearRegression\n",
    "from sklearn.metrics import mean_squared_error\n",
    "from sklearn.model_selection import train_test_split\n",
    "import eli5\n",
    "from sklearn.preprocessing import OneHotEncoder\n",
    "from sklearn.metrics import mean_absolute_error"
   ]
  },
  {
   "cell_type": "code",
   "execution_count": 24,
   "metadata": {},
   "outputs": [],
   "source": [
    "# Connect to the SQLite database\n",
    "conn = sqlite3.connect(\"database.sqlite\")\n",
    "\n",
    "# Load the data into a Pandas dataframe\n",
    "df = pd.read_sql_query(\"SELECT * FROM merged_data\", conn)\n",
    "\n",
    "# Close the connection to the SQLite database\n",
    "conn.close()"
   ]
  },
  {
   "cell_type": "code",
   "execution_count": 16,
   "metadata": {},
   "outputs": [
    {
     "name": "stdout",
     "output_type": "stream",
     "text": [
      "index                           int64\n",
      "Unnamed: 0_x                    int64\n",
      "name_x                         object\n",
      "latitude                      float64\n",
      "longitude                     float64\n",
      "bikes_available                 int64\n",
      "Unnamed: 0_y                    int64\n",
      "fsq_id                         object\n",
      "category_id                     int64\n",
      "category_name                  object\n",
      "chains                         object\n",
      "distance_x                      int64\n",
      "location_country               object\n",
      "location_cross_street          object\n",
      "location_formatted_address     object\n",
      "location_locality              object\n",
      "location_postcode              object\n",
      "location_region                object\n",
      "location_timezone              object\n",
      "name_y                         object\n",
      "Unnamed: 0                      int64\n",
      "name                           object\n",
      "rating                        float64\n",
      "review_count                    int64\n",
      "price                          object\n",
      "distance_y                    float64\n",
      "category                       object\n",
      "dtype: object\n",
      "Index(['index', 'Unnamed: 0_x', 'name_x', 'latitude', 'longitude',\n",
      "       'bikes_available', 'Unnamed: 0_y', 'fsq_id', 'category_id',\n",
      "       'category_name', 'chains', 'distance_x', 'location_country',\n",
      "       'location_cross_street', 'location_formatted_address',\n",
      "       'location_locality', 'location_postcode', 'location_region',\n",
      "       'location_timezone', 'name_y', 'Unnamed: 0', 'name', 'rating',\n",
      "       'review_count', 'price', 'distance_y', 'category'],\n",
      "      dtype='object')\n"
     ]
    }
   ],
   "source": [
    "# Data Types\n",
    "print(df.dtypes)\n",
    "\n",
    "# Column Names\n",
    "print(df.columns)"
   ]
  },
  {
   "cell_type": "code",
   "execution_count": 25,
   "metadata": {},
   "outputs": [
    {
     "data": {
      "text/html": [
       "<div>\n",
       "<style scoped>\n",
       "    .dataframe tbody tr th:only-of-type {\n",
       "        vertical-align: middle;\n",
       "    }\n",
       "\n",
       "    .dataframe tbody tr th {\n",
       "        vertical-align: top;\n",
       "    }\n",
       "\n",
       "    .dataframe thead th {\n",
       "        text-align: right;\n",
       "    }\n",
       "</style>\n",
       "<table border=\"1\" class=\"dataframe\">\n",
       "  <thead>\n",
       "    <tr style=\"text-align: right;\">\n",
       "      <th></th>\n",
       "      <th>index</th>\n",
       "      <th>latitude</th>\n",
       "      <th>longitude</th>\n",
       "      <th>bikes_available</th>\n",
       "      <th>distance_x</th>\n",
       "      <th>rating</th>\n",
       "      <th>review_count</th>\n",
       "      <th>price</th>\n",
       "      <th>distance_y</th>\n",
       "      <th>category</th>\n",
       "    </tr>\n",
       "  </thead>\n",
       "  <tbody>\n",
       "    <tr>\n",
       "      <th>0</th>\n",
       "      <td>0</td>\n",
       "      <td>43.67</td>\n",
       "      <td>-79.32</td>\n",
       "      <td>13</td>\n",
       "      <td>62</td>\n",
       "      <td>4.5</td>\n",
       "      <td>418</td>\n",
       "      <td>$$</td>\n",
       "      <td>1048.126922</td>\n",
       "      <td>None</td>\n",
       "    </tr>\n",
       "    <tr>\n",
       "      <th>1</th>\n",
       "      <td>1</td>\n",
       "      <td>43.67</td>\n",
       "      <td>-79.32</td>\n",
       "      <td>13</td>\n",
       "      <td>62</td>\n",
       "      <td>4.0</td>\n",
       "      <td>572</td>\n",
       "      <td>$$</td>\n",
       "      <td>1005.190035</td>\n",
       "      <td>None</td>\n",
       "    </tr>\n",
       "    <tr>\n",
       "      <th>2</th>\n",
       "      <td>2</td>\n",
       "      <td>43.67</td>\n",
       "      <td>-79.32</td>\n",
       "      <td>13</td>\n",
       "      <td>62</td>\n",
       "      <td>3.5</td>\n",
       "      <td>503</td>\n",
       "      <td>$$</td>\n",
       "      <td>374.238073</td>\n",
       "      <td>None</td>\n",
       "    </tr>\n",
       "    <tr>\n",
       "      <th>3</th>\n",
       "      <td>3</td>\n",
       "      <td>43.67</td>\n",
       "      <td>-79.32</td>\n",
       "      <td>13</td>\n",
       "      <td>62</td>\n",
       "      <td>4.5</td>\n",
       "      <td>169</td>\n",
       "      <td>$</td>\n",
       "      <td>1184.032903</td>\n",
       "      <td>None</td>\n",
       "    </tr>\n",
       "    <tr>\n",
       "      <th>4</th>\n",
       "      <td>4</td>\n",
       "      <td>43.67</td>\n",
       "      <td>-79.32</td>\n",
       "      <td>13</td>\n",
       "      <td>62</td>\n",
       "      <td>4.5</td>\n",
       "      <td>209</td>\n",
       "      <td>$$</td>\n",
       "      <td>1854.179445</td>\n",
       "      <td>None</td>\n",
       "    </tr>\n",
       "  </tbody>\n",
       "</table>\n",
       "</div>"
      ],
      "text/plain": [
       "   index  latitude  longitude  bikes_available  distance_x  rating  \\\n",
       "0      0     43.67     -79.32               13          62     4.5   \n",
       "1      1     43.67     -79.32               13          62     4.0   \n",
       "2      2     43.67     -79.32               13          62     3.5   \n",
       "3      3     43.67     -79.32               13          62     4.5   \n",
       "4      4     43.67     -79.32               13          62     4.5   \n",
       "\n",
       "   review_count price   distance_y category  \n",
       "0           418    $$  1048.126922     None  \n",
       "1           572    $$  1005.190035     None  \n",
       "2           503    $$   374.238073     None  \n",
       "3           169     $  1184.032903     None  \n",
       "4           209    $$  1854.179445     None  "
      ]
     },
     "execution_count": 25,
     "metadata": {},
     "output_type": "execute_result"
    }
   ],
   "source": [
    "df = df.drop([\"Unnamed: 0_x\",\"name_x\", \"Unnamed: 0_y\",\"fsq_id\",\"category_id\",\"location_postcode\",\"location_region\",\"location_timezone\",\n",
    "              \"name_y\",\"Unnamed: 0\",\"name\",\"chains\",\"location_country\",\"location_cross_street\",\"location_formatted_address\",\"location_locality\",\"category_name\"], axis=1)\n",
    "\n",
    "df.head()"
   ]
  },
  {
   "cell_type": "code",
   "execution_count": 26,
   "metadata": {},
   "outputs": [],
   "source": [
    "# Convert the strings into numbers\n",
    "df.price = df.price.map({'$': 0, '$$': 1, '$$$': 2, '$$$$': 3})\n",
    "\n",
    "# Reshaping into a 2D array with a single feature (column)\n",
    "price = df.price.values.reshape(-1, 1)\n",
    "\n",
    "# Initializing the OneHotEncoder\n",
    "encoder = OneHotEncoder()\n",
    "encoder.fit(price)\n",
    "\n",
    "# Transforming the input data into one-hot-encoded format\n",
    "one_hot_encoded = encoder.transform(price).toarray()"
   ]
  },
  {
   "cell_type": "code",
   "execution_count": 27,
   "metadata": {},
   "outputs": [],
   "source": [
    "df = df.fillna(0)"
   ]
  },
  {
   "cell_type": "markdown",
   "metadata": {},
   "source": [
    "Provide model output and an interpretation of the results. "
   ]
  },
  {
   "cell_type": "code",
   "execution_count": 28,
   "metadata": {},
   "outputs": [],
   "source": [
    "# Split the data into features (X) and target (y)\n",
    "X = df.drop(\"bikes_available\", axis=1)\n",
    "y = df[\"bikes_available\"]"
   ]
  },
  {
   "cell_type": "code",
   "execution_count": 29,
   "metadata": {},
   "outputs": [
    {
     "name": "stdout",
     "output_type": "stream",
     "text": [
      "R-squared: 0.1270297081328129\n"
     ]
    }
   ],
   "source": [
    "# Split the data into training and testing sets\n",
    "X_train, X_test, y_train, y_test = train_test_split(X, y, test_size=0.2)\n",
    "\n",
    "# Llinear regression model to the training data\n",
    "reg = LinearRegression().fit(X_train, y_train)\n",
    "\n",
    "# Predict the target values\n",
    "y_pred = reg.predict(X_test)\n",
    "\n",
    "# Evaluate the model performance\n",
    "print(\"R-squared:\", reg.score(X_test, y_test))"
   ]
  },
  {
   "cell_type": "code",
   "execution_count": 30,
   "metadata": {},
   "outputs": [
    {
     "name": "stdout",
     "output_type": "stream",
     "text": [
      "Explanation(estimator='LinearRegression()', description=None, error=None, method='linear model', is_regression=True, targets=[TargetExplanation(target='y', feature_weights=FeatureWeights(pos=[FeatureWeight(feature='<BIAS>', weight=15750.102860924335, std=None, value=1.0), FeatureWeight(feature='distance_y', weight=1.1278146365808925, std=None, value=1327.5121317319397), FeatureWeight(feature='index', weight=0.6117121443477826, std=None, value=27078.0), FeatureWeight(feature='distance_x', weight=0.43192222049174234, std=None, value=64.0)], neg=[FeatureWeight(feature='latitude', weight=-9073.688910216862, std=None, value=43.66), FeatureWeight(feature='longitude', weight=-6669.5199797635805, std=None, value=-79.39), FeatureWeight(feature='rating', weight=-0.9651904078133171, std=None, value=4.0), FeatureWeight(feature='review_count', weight=-0.5475267064278455, std=None, value=735.0), FeatureWeight(feature='price', weight=-0.038470855124138253, std=None, value=3.0)], pos_remaining=0, neg_remaining=0), proba=None, score=7.514231975947041, weighted_spans=None, heatmap=None)], feature_importances=None, decision_tree=None, highlight_spaces=None, transition_features=None, image=None)\n"
     ]
    }
   ],
   "source": [
    "# Using eli5 library to explain model \n",
    "expl = eli5.explain_prediction(reg, X_test.iloc[0, :])\n",
    "print(expl)"
   ]
  },
  {
   "cell_type": "markdown",
   "metadata": {},
   "source": [
    "# Stretch"
   ]
  },
  {
   "cell_type": "markdown",
   "metadata": {},
   "source": [
    "How can you turn the regression model into a classification model?"
   ]
  },
  {
   "cell_type": "code",
   "execution_count": 1,
   "metadata": {},
   "outputs": [],
   "source": []
  }
 ],
 "metadata": {
  "kernelspec": {
   "display_name": "Python 3",
   "language": "python",
   "name": "python3"
  },
  "language_info": {
   "codemirror_mode": {
    "name": "ipython",
    "version": 3
   },
   "file_extension": ".py",
   "mimetype": "text/x-python",
   "name": "python",
   "nbconvert_exporter": "python",
   "pygments_lexer": "ipython3",
   "version": "3.10.9"
  },
  "vscode": {
   "interpreter": {
    "hash": "3dbcf5445ac47b9a2931907ac615ecf8f3b67cbd977950b6889812ffd692de77"
   }
  }
 },
 "nbformat": 4,
 "nbformat_minor": 4
}
