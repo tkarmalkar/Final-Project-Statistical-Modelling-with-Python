{
 "cells": [
  {
   "cell_type": "markdown",
   "metadata": {},
   "source": [
    "Build a regression model."
   ]
  },
  {
   "cell_type": "code",
   "execution_count": 9,
   "metadata": {},
   "outputs": [],
   "source": [
    "import sqlite3\n",
    "import pandas as pd\n",
    "import numpy as np\n",
    "from sklearn.linear_model import LinearRegression\n",
    "from sklearn.metrics import mean_squared_error\n",
    "from sklearn.model_selection import train_test_split\n",
    "import eli5\n",
    "\n",
    "# Connect to the SQLite database\n",
    "conn = sqlite3.connect(\"database.sqlite\")\n",
    "\n",
    "# Load the data into a Pandas dataframe\n",
    "df = pd.read_sql_query(\"SELECT * FROM merged_data\", conn)\n",
    "\n",
    "# Close the connection to the SQLite database\n",
    "conn.close()\n"
   ]
  },
  {
   "cell_type": "code",
   "execution_count": 10,
   "metadata": {},
   "outputs": [
    {
     "data": {
      "text/html": [
       "<div>\n",
       "<style scoped>\n",
       "    .dataframe tbody tr th:only-of-type {\n",
       "        vertical-align: middle;\n",
       "    }\n",
       "\n",
       "    .dataframe tbody tr th {\n",
       "        vertical-align: top;\n",
       "    }\n",
       "\n",
       "    .dataframe thead th {\n",
       "        text-align: right;\n",
       "    }\n",
       "</style>\n",
       "<table border=\"1\" class=\"dataframe\">\n",
       "  <thead>\n",
       "    <tr style=\"text-align: right;\">\n",
       "      <th></th>\n",
       "      <th>index</th>\n",
       "      <th>Unnamed: 0_x_x</th>\n",
       "      <th>latitude</th>\n",
       "      <th>longitude</th>\n",
       "      <th>bikes_available_x</th>\n",
       "      <th>Unnamed: 0_y_x</th>\n",
       "      <th>rating_x</th>\n",
       "      <th>review_count_x</th>\n",
       "      <th>price_x</th>\n",
       "      <th>distance_x</th>\n",
       "      <th>Unnamed: 0_x_y</th>\n",
       "      <th>Unnamed: 0_y_y</th>\n",
       "      <th>rating_y</th>\n",
       "      <th>review_count_y</th>\n",
       "      <th>price_y</th>\n",
       "      <th>distance_y</th>\n",
       "    </tr>\n",
       "  </thead>\n",
       "  <tbody>\n",
       "    <tr>\n",
       "      <th>0</th>\n",
       "      <td>0</td>\n",
       "      <td>89</td>\n",
       "      <td>43.67</td>\n",
       "      <td>-79.41</td>\n",
       "      <td>4</td>\n",
       "      <td>0</td>\n",
       "      <td>0</td>\n",
       "      <td>0</td>\n",
       "      <td>0</td>\n",
       "      <td>114</td>\n",
       "      <td>89</td>\n",
       "      <td>0</td>\n",
       "      <td>0</td>\n",
       "      <td>0</td>\n",
       "      <td>0</td>\n",
       "      <td>114</td>\n",
       "    </tr>\n",
       "    <tr>\n",
       "      <th>1</th>\n",
       "      <td>1</td>\n",
       "      <td>89</td>\n",
       "      <td>43.67</td>\n",
       "      <td>-79.41</td>\n",
       "      <td>4</td>\n",
       "      <td>0</td>\n",
       "      <td>0</td>\n",
       "      <td>0</td>\n",
       "      <td>0</td>\n",
       "      <td>114</td>\n",
       "      <td>89</td>\n",
       "      <td>1</td>\n",
       "      <td>0</td>\n",
       "      <td>0</td>\n",
       "      <td>0</td>\n",
       "      <td>114</td>\n",
       "    </tr>\n",
       "    <tr>\n",
       "      <th>2</th>\n",
       "      <td>2</td>\n",
       "      <td>89</td>\n",
       "      <td>43.67</td>\n",
       "      <td>-79.41</td>\n",
       "      <td>4</td>\n",
       "      <td>0</td>\n",
       "      <td>0</td>\n",
       "      <td>0</td>\n",
       "      <td>0</td>\n",
       "      <td>114</td>\n",
       "      <td>89</td>\n",
       "      <td>2</td>\n",
       "      <td>0</td>\n",
       "      <td>0</td>\n",
       "      <td>0</td>\n",
       "      <td>114</td>\n",
       "    </tr>\n",
       "    <tr>\n",
       "      <th>3</th>\n",
       "      <td>3</td>\n",
       "      <td>89</td>\n",
       "      <td>43.67</td>\n",
       "      <td>-79.41</td>\n",
       "      <td>4</td>\n",
       "      <td>0</td>\n",
       "      <td>0</td>\n",
       "      <td>0</td>\n",
       "      <td>0</td>\n",
       "      <td>114</td>\n",
       "      <td>89</td>\n",
       "      <td>3</td>\n",
       "      <td>0</td>\n",
       "      <td>0</td>\n",
       "      <td>0</td>\n",
       "      <td>114</td>\n",
       "    </tr>\n",
       "    <tr>\n",
       "      <th>4</th>\n",
       "      <td>4</td>\n",
       "      <td>89</td>\n",
       "      <td>43.67</td>\n",
       "      <td>-79.41</td>\n",
       "      <td>4</td>\n",
       "      <td>0</td>\n",
       "      <td>0</td>\n",
       "      <td>0</td>\n",
       "      <td>0</td>\n",
       "      <td>114</td>\n",
       "      <td>89</td>\n",
       "      <td>4</td>\n",
       "      <td>0</td>\n",
       "      <td>0</td>\n",
       "      <td>0</td>\n",
       "      <td>114</td>\n",
       "    </tr>\n",
       "  </tbody>\n",
       "</table>\n",
       "</div>"
      ],
      "text/plain": [
       "   index  Unnamed: 0_x_x  latitude  longitude  bikes_available_x  \\\n",
       "0      0              89     43.67     -79.41                  4   \n",
       "1      1              89     43.67     -79.41                  4   \n",
       "2      2              89     43.67     -79.41                  4   \n",
       "3      3              89     43.67     -79.41                  4   \n",
       "4      4              89     43.67     -79.41                  4   \n",
       "\n",
       "   Unnamed: 0_y_x  rating_x  review_count_x  price_x  distance_x  \\\n",
       "0               0         0               0        0         114   \n",
       "1               0         0               0        0         114   \n",
       "2               0         0               0        0         114   \n",
       "3               0         0               0        0         114   \n",
       "4               0         0               0        0         114   \n",
       "\n",
       "   Unnamed: 0_x_y  Unnamed: 0_y_y  rating_y  review_count_y  price_y  \\\n",
       "0              89               0         0               0        0   \n",
       "1              89               1         0               0        0   \n",
       "2              89               2         0               0        0   \n",
       "3              89               3         0               0        0   \n",
       "4              89               4         0               0        0   \n",
       "\n",
       "   distance_y  \n",
       "0         114  \n",
       "1         114  \n",
       "2         114  \n",
       "3         114  \n",
       "4         114  "
      ]
     },
     "execution_count": 10,
     "metadata": {},
     "output_type": "execute_result"
    }
   ],
   "source": [
    "#drop unwanted columns and populate 0 for empty/NaN columns\n",
    "df = df.drop([\"name_x_x\",\"name_y_x\", \"name_x_y\",\"name_y_y\",\"bikes_available_y\"], axis=1)\n",
    "df = df.fillna(0)\n",
    "\n",
    "df.head()"
   ]
  },
  {
   "cell_type": "markdown",
   "metadata": {},
   "source": [
    "Provide model output and an interpretation of the results. "
   ]
  },
  {
   "cell_type": "code",
   "execution_count": 11,
   "metadata": {},
   "outputs": [],
   "source": [
    "# Split the data into features (X) and target (y)\n",
    "X = df.drop(\"bikes_available_x\", axis=1)\n",
    "y = df[\"bikes_available_x\"]"
   ]
  },
  {
   "cell_type": "code",
   "execution_count": 13,
   "metadata": {},
   "outputs": [
    {
     "name": "stdout",
     "output_type": "stream",
     "text": [
      "R-squared: 0.798264614847305\n"
     ]
    }
   ],
   "source": [
    "# Split the data into training and testing sets\n",
    "X_train, X_test, y_train, y_test = train_test_split(X, y, test_size=0.2)\n",
    "\n",
    "# Llinear regression model to the training data\n",
    "reg = LinearRegression().fit(X_train, y_train)\n",
    "\n",
    "# Predict the target values\n",
    "y_pred = reg.predict(X_test)\n",
    "\n",
    "# Evaluate the model performance\n",
    "print(\"R-squared:\", reg.score(X_test, y_test))"
   ]
  },
  {
   "cell_type": "code",
   "execution_count": 16,
   "metadata": {},
   "outputs": [
    {
     "name": "stdout",
     "output_type": "stream",
     "text": [
      "Explanation(estimator='LinearRegression()', description=None, error=None, method='linear model', is_regression=True, targets=[TargetExplanation(target='y', feature_weights=FeatureWeights(pos=[FeatureWeight(feature='index', weight=18.02440591040393, std=None, value=8870.0), FeatureWeight(feature='<BIAS>', weight=15.62044467671716, std=None, value=1.0), FeatureWeight(feature='longitude', weight=1.2122386428004006e-14, std=None, value=-79.41), FeatureWeight(feature='latitude', weight=1.2120859871345147e-15, std=None, value=43.67)], neg=[FeatureWeight(feature='Unnamed: 0_x_x', weight=-20.054495956137078, std=None, value=178.0), FeatureWeight(feature='Unnamed: 0_y_x', weight=-3.190331967955746, std=None, value=13.0), FeatureWeight(feature='Unnamed: 0_x_y', weight=-0.21165379767798567, std=None, value=332.0), FeatureWeight(feature='Unnamed: 0_y_y', weight=-0.02961239184447026, std=None, value=10.0)], pos_remaining=0, neg_remaining=0), proba=None, score=10.158756473505825, weighted_spans=None, heatmap=None)], feature_importances=None, decision_tree=None, highlight_spaces=None, transition_features=None, image=None)\n"
     ]
    }
   ],
   "source": [
    "# Using eli5 library to explain model \n",
    "expl = eli5.explain_prediction(reg, X_test.iloc[0, :])\n",
    "print(expl)"
   ]
  },
  {
   "cell_type": "markdown",
   "metadata": {},
   "source": [
    "# Stretch"
   ]
  },
  {
   "cell_type": "markdown",
   "metadata": {},
   "source": [
    "How can you turn the regression model into a classification model?"
   ]
  },
  {
   "cell_type": "code",
   "execution_count": 1,
   "metadata": {},
   "outputs": [],
   "source": []
  }
 ],
 "metadata": {
  "kernelspec": {
   "display_name": "base",
   "language": "python",
   "name": "python3"
  },
  "language_info": {
   "codemirror_mode": {
    "name": "ipython",
    "version": 3
   },
   "file_extension": ".py",
   "mimetype": "text/x-python",
   "name": "python",
   "nbconvert_exporter": "python",
   "pygments_lexer": "ipython3",
   "version": "3.9.13"
  },
  "vscode": {
   "interpreter": {
    "hash": "7c266577cd298a2ffa87cbdc5ff2e56ebf39c2cd5fe86fd94a53d49a25c5e754"
   }
  }
 },
 "nbformat": 4,
 "nbformat_minor": 4
}
