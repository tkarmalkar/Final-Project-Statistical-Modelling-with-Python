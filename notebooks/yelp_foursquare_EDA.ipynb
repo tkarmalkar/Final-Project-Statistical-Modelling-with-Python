{
 "cells": [
  {
   "cell_type": "code",
   "execution_count": 126,
   "metadata": {},
   "outputs": [],
   "source": [
    "# imports\n",
    "import requests\n",
    "import pandas as pd\n",
    "import os"
   ]
  },
  {
   "cell_type": "code",
   "execution_count": 167,
   "metadata": {},
   "outputs": [],
   "source": [
    "# Read citybikes data from csv file\n",
    "df1 = pd.read_csv('C:/Taslim/LHL/Week 3 Project/citybike.csv')"
   ]
  },
  {
   "cell_type": "markdown",
   "metadata": {},
   "source": [
    "# Foursquare"
   ]
  },
  {
   "cell_type": "markdown",
   "metadata": {},
   "source": [
    "Send a request to Foursquare with a small radius (1000m) for all the bike stations in your city of choice. "
   ]
  },
  {
   "cell_type": "code",
   "execution_count": 128,
   "metadata": {},
   "outputs": [],
   "source": [
    "# Basic set-up for API Call\n",
    "radius='1000'\n",
    "limit='50'\n",
    "\n",
    "headers = {\n",
    "    \"Accept\": \"application/json\",\n",
    "    \"Authorization\": \"\" #API Key removed\n",
    "}"
   ]
  },
  {
   "cell_type": "markdown",
   "metadata": {},
   "source": [
    "Parse through the response to get the POI (such as restaurants, bars, etc) details you want (ratings, name, location, etc)"
   ]
  },
  {
   "cell_type": "code",
   "execution_count": 139,
   "metadata": {},
   "outputs": [],
   "source": [
    "#Empty object to store result\n",
    "foursquare_data_extract = []\n",
    "\n",
    "#Making API call for first 100 citybike stations & exporting few attributes to CSV files\n",
    "for index, row in df1[:100].iterrows():\n",
    "    lat = row['latitude']\n",
    "    lng = row['longitude']\n",
    "    url = f\"https://api.foursquare.com/v3/places/nearby?ll={lat},{lng}\"\n",
    "    #print(url)\n",
    "\n",
    "    response = requests.request(\"GET\", url, headers=headers)\n",
    "    \n",
    "    for result in foursquare_data['results']:\n",
    "        foursquare_data_extract.append({\n",
    "            \"fsq_id\" : result['fsq_id'],\n",
    "            \"name\" : result['name'],\n",
    "            \"category_name\" : result['categories'][0]['name'],\n",
    "            \"distance\" : result['distance'],\n",
    "            \"latitude\" : result['geocodes']['main']['latitude'],\n",
    "            \"longitude\" : result['geocodes']['main']['longitude']\n",
    "            })\n",
    "        df2 = pd.DataFrame(foursquare_data_extract)\n",
    "        # Print the dataframe\n",
    "        # print(df2)\n",
    "        df2.to_csv('c:/Taslim/LHL/Week 3 Project/foursquare.csv') "
   ]
  },
  {
   "cell_type": "markdown",
   "metadata": {},
   "source": [
    "Put your parsed results into a DataFrame"
   ]
  },
  {
   "cell_type": "code",
   "execution_count": 140,
   "metadata": {},
   "outputs": [
    {
     "data": {
      "text/html": [
       "<div>\n",
       "<style scoped>\n",
       "    .dataframe tbody tr th:only-of-type {\n",
       "        vertical-align: middle;\n",
       "    }\n",
       "\n",
       "    .dataframe tbody tr th {\n",
       "        vertical-align: top;\n",
       "    }\n",
       "\n",
       "    .dataframe thead th {\n",
       "        text-align: right;\n",
       "    }\n",
       "</style>\n",
       "<table border=\"1\" class=\"dataframe\">\n",
       "  <thead>\n",
       "    <tr style=\"text-align: right;\">\n",
       "      <th></th>\n",
       "      <th>Unnamed: 0</th>\n",
       "      <th>fsq_id</th>\n",
       "      <th>name</th>\n",
       "      <th>category_name</th>\n",
       "      <th>distance</th>\n",
       "      <th>latitude</th>\n",
       "      <th>longitude</th>\n",
       "    </tr>\n",
       "  </thead>\n",
       "  <tbody>\n",
       "    <tr>\n",
       "      <th>0</th>\n",
       "      <td>0</td>\n",
       "      <td>4b646bedf964a520d5b12ae3</td>\n",
       "      <td>Pet Cuisine</td>\n",
       "      <td>Technology Business</td>\n",
       "      <td>6</td>\n",
       "      <td>43.649777</td>\n",
       "      <td>-79.369832</td>\n",
       "    </tr>\n",
       "    <tr>\n",
       "      <th>1</th>\n",
       "      <td>1</td>\n",
       "      <td>518e6d3a498e3e5f52a938e3</td>\n",
       "      <td>Bulk Barn</td>\n",
       "      <td>Grocery Store / Supermarket</td>\n",
       "      <td>8</td>\n",
       "      <td>43.650044</td>\n",
       "      <td>-79.370015</td>\n",
       "    </tr>\n",
       "    <tr>\n",
       "      <th>2</th>\n",
       "      <td>2</td>\n",
       "      <td>4c8102a1d8086dcb21866852</td>\n",
       "      <td>Scheffler's Delicatessen</td>\n",
       "      <td>Deli</td>\n",
       "      <td>194</td>\n",
       "      <td>43.649133</td>\n",
       "      <td>-79.371740</td>\n",
       "    </tr>\n",
       "    <tr>\n",
       "      <th>3</th>\n",
       "      <td>3</td>\n",
       "      <td>4b5bb6f9f964a520be1129e3</td>\n",
       "      <td>McDonald's</td>\n",
       "      <td>Burger Joint</td>\n",
       "      <td>67</td>\n",
       "      <td>43.649456</td>\n",
       "      <td>-79.370389</td>\n",
       "    </tr>\n",
       "    <tr>\n",
       "      <th>4</th>\n",
       "      <td>4</td>\n",
       "      <td>4ae8cf93f964a5207eb221e3</td>\n",
       "      <td>The Jason George</td>\n",
       "      <td>Pub</td>\n",
       "      <td>90</td>\n",
       "      <td>43.649787</td>\n",
       "      <td>-79.371236</td>\n",
       "    </tr>\n",
       "  </tbody>\n",
       "</table>\n",
       "</div>"
      ],
      "text/plain": [
       "   Unnamed: 0                    fsq_id                      name  \\\n",
       "0           0  4b646bedf964a520d5b12ae3               Pet Cuisine   \n",
       "1           1  518e6d3a498e3e5f52a938e3                 Bulk Barn   \n",
       "2           2  4c8102a1d8086dcb21866852  Scheffler's Delicatessen   \n",
       "3           3  4b5bb6f9f964a520be1129e3                McDonald's   \n",
       "4           4  4ae8cf93f964a5207eb221e3          The Jason George   \n",
       "\n",
       "                 category_name  distance   latitude  longitude  \n",
       "0          Technology Business         6  43.649777 -79.369832  \n",
       "1  Grocery Store / Supermarket         8  43.650044 -79.370015  \n",
       "2                         Deli       194  43.649133 -79.371740  \n",
       "3                 Burger Joint        67  43.649456 -79.370389  \n",
       "4                          Pub        90  43.649787 -79.371236  "
      ]
     },
     "execution_count": 140,
     "metadata": {},
     "output_type": "execute_result"
    }
   ],
   "source": [
    "# IMporting CSV file to check contents\n",
    "foursquare_df = pd.read_csv('C:/Taslim/LHL/Week 3 Project/foursquare.csv')\n",
    "foursquare_df.head()"
   ]
  },
  {
   "cell_type": "markdown",
   "metadata": {},
   "source": [
    "# Yelp"
   ]
  },
  {
   "cell_type": "markdown",
   "metadata": {},
   "source": [
    "Send a request to Yelp with a small radius (1000m) for all the bike stations in your city of choice. "
   ]
  },
  {
   "cell_type": "code",
   "execution_count": 155,
   "metadata": {},
   "outputs": [],
   "source": [
    "#Basic Setup for API\n",
    "\n",
    "headers = {\n",
    "    \"accept\": \"application/json\",\n",
    "    \"Authorization\": \"\" #Key Removed\n",
    "}\n"
   ]
  },
  {
   "cell_type": "code",
   "execution_count": 166,
   "metadata": {},
   "outputs": [],
   "source": [
    "# Empty object for storing results\n",
    "yelp_data_extract = []\n",
    "\n",
    "# Iterating through first 100 station to pull Yelp data\n",
    "for index, row in df1[:100].iterrows():\n",
    "    lat = row['latitude']\n",
    "    lng = row['longitude']\n",
    "    url = \"https://api.yelp.com/v3/businesses/search?term=food&latitude=\" + str(lat) + \"&longitude=\" + str(lng)\n",
    "    #print(url)\n",
    "    response = requests.get(url, headers=headers)\n",
    "    yelp_data = response.json()\n",
    "\n",
    "\n",
    "#print(yelp_data)\n",
    "\n",
    "for results in yelp_data['businesses']:\n",
    "        yelp_data_extract.append({\n",
    "            \"name\" : result['name'],\n",
    "            \"rating\" : result.get('rating', None),\n",
    "            \"review_count\" : result.get('review_count', None),\n",
    "            \"price\" : result.get('price', None),\n",
    "            \"distance\" : result.get('distance', None),\n",
    "            \"latitude\" : lat,\n",
    "            \"longitude\" : lng\n",
    "\n",
    "        })\n",
    "        df3 = pd.DataFrame(yelp_data_extract)\n",
    "        # Print the dataframe\n",
    "        # print(df2)\n",
    "        df3.to_csv('c:/Taslim/LHL/Week 3 Project/yelp.csv') \n",
    "\n",
    "    "
   ]
  },
  {
   "cell_type": "markdown",
   "metadata": {},
   "source": [
    "Parse through the response to get the POI (such as restaurants, bars, etc) details you want (ratings, name, location, etc)"
   ]
  },
  {
   "cell_type": "code",
   "execution_count": null,
   "metadata": {},
   "outputs": [],
   "source": [
    "# Step performed in previous for loop"
   ]
  },
  {
   "cell_type": "markdown",
   "metadata": {},
   "source": [
    "Put your parsed results into a DataFrame"
   ]
  },
  {
   "cell_type": "code",
   "execution_count": null,
   "metadata": {},
   "outputs": [],
   "source": [
    "# Step performed in previous for loop"
   ]
  },
  {
   "cell_type": "markdown",
   "metadata": {},
   "source": []
  },
  {
   "cell_type": "markdown",
   "metadata": {},
   "source": [
    "# Comparing Results"
   ]
  },
  {
   "cell_type": "markdown",
   "metadata": {},
   "source": [
    "Which API provided you with more complete data? Provide an explanation. "
   ]
  },
  {
   "cell_type": "markdown",
   "metadata": {},
   "source": []
  },
  {
   "cell_type": "markdown",
   "metadata": {},
   "source": [
    "Get the top 10 restaurants according to their rating"
   ]
  },
  {
   "cell_type": "code",
   "execution_count": 163,
   "metadata": {},
   "outputs": [
    {
     "name": "stdout",
     "output_type": "stream",
     "text": [
      "Jjin Toast - 5.0\n",
      "Maison T - 5.0\n",
      "LA LA Bakeshop - 4.5\n",
      "Paldo Gangsan - 4.5\n",
      "Hodo Kwaja - 4.5\n",
      "Daldongnae - 4.5\n",
      "FET ZUN - 4.5\n",
      "El Pocho Antojitos Bar - 4.5\n",
      "Jin Dal Lae - 4.5\n",
      "Roti Cuisine of India - 4.5\n"
     ]
    }
   ],
   "source": [
    "restaurants = yelp_data[\"businesses\"]\n",
    "\n",
    "# Sort the restaurants based on their rating in descending order\n",
    "restaurants.sort(key=lambda x: x[\"rating\"], reverse=True)\n",
    "\n",
    "# Get the top 10 restaurants\n",
    "top_10_restaurants = restaurants[:10]\n",
    "\n",
    "# Print the name and rating of each of the top 10 restaurants\n",
    "for restaurant in top_10_restaurants:\n",
    "    print(f\"{restaurant['name']} - {restaurant['rating']}\")"
   ]
  }
 ],
 "metadata": {
  "kernelspec": {
   "display_name": "base",
   "language": "python",
   "name": "python3"
  },
  "language_info": {
   "codemirror_mode": {
    "name": "ipython",
    "version": 3
   },
   "file_extension": ".py",
   "mimetype": "text/x-python",
   "name": "python",
   "nbconvert_exporter": "python",
   "pygments_lexer": "ipython3",
   "version": "3.9.13"
  },
  "vscode": {
   "interpreter": {
    "hash": "7c266577cd298a2ffa87cbdc5ff2e56ebf39c2cd5fe86fd94a53d49a25c5e754"
   }
  }
 },
 "nbformat": 4,
 "nbformat_minor": 4
}
