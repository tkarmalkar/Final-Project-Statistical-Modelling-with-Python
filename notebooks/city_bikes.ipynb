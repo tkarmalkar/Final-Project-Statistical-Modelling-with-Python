{
 "cells": [
  {
   "cell_type": "markdown",
   "metadata": {},
   "source": [
    "# CityBikes"
   ]
  },
  {
   "cell_type": "markdown",
   "metadata": {},
   "source": [
    "Send a request to CityBikes for the city of your choice. "
   ]
  },
  {
   "cell_type": "code",
   "execution_count": 1,
   "metadata": {},
   "outputs": [],
   "source": [
    "# Import libraries\n",
    "import requests\n",
    "import pandas as pd\n",
    "import json"
   ]
  },
  {
   "cell_type": "code",
   "execution_count": 4,
   "metadata": {},
   "outputs": [],
   "source": [
    "# Make the API request\n",
    "response = requests.get(\"http://api.citybik.es/v2/network\")\n",
    "\n",
    "# Convert the JSON response to a Python dictionary\n",
    "data = response.json()\n"
   ]
  },
  {
   "cell_type": "code",
   "execution_count": 3,
   "metadata": {},
   "outputs": [
    {
     "name": "stdout",
     "output_type": "stream",
     "text": [
      "<Response [404]>\n"
     ]
    }
   ],
   "source": [
    "print(response)"
   ]
  },
  {
   "cell_type": "code",
   "execution_count": 39,
   "metadata": {},
   "outputs": [],
   "source": [
    "# Make the API request and store the response\n",
    "#City chose is Toronto.\n",
    "response = requests.get(\"http://api.citybik.es/v2/networks/bixi-toronto\")\n",
    "\n",
    "# Convert the JSON response to a Python dictionary\n",
    "data = response.json()"
   ]
  },
  {
   "cell_type": "markdown",
   "metadata": {},
   "source": [
    "Parse through the response to get the details you want for the bike stations in that city (latitude, longitude, number of bikes). "
   ]
  },
  {
   "cell_type": "code",
   "execution_count": 47,
   "metadata": {},
   "outputs": [],
   "source": [
    "# Extract the desired information from the response\n",
    "stations = data['network']['stations']\n",
    "\n",
    "# Temporty list to store the station data\n",
    "station_data = []\n",
    "\n",
    "# Extract the information\n",
    "for station in stations:\n",
    "    station_data.append({\n",
    "        \"name\": station[\"name\"],\n",
    "        \"latitude\": station[\"latitude\"],\n",
    "        \"longitude\": station[\"longitude\"],\n",
    "        \"bikes_available\": station[\"free_bikes\"]\n",
    "    })"
   ]
  },
  {
   "cell_type": "markdown",
   "metadata": {},
   "source": [
    "Put your parsed results into a DataFrame."
   ]
  },
  {
   "cell_type": "code",
   "execution_count": 48,
   "metadata": {},
   "outputs": [
    {
     "name": "stdout",
     "output_type": "stream",
     "text": [
      "                                    name   latitude  longitude  \\\n",
      "0              Queen St E / Woodward Ave  43.665269 -79.319796   \n",
      "1            Primrose Ave / Davenport Rd  43.671420 -79.445947   \n",
      "2              Queen St. E / Rhodes Ave.  43.666224 -79.317693   \n",
      "3                   Bond St / Queen St E  43.653236 -79.376716   \n",
      "4               Church St / Alexander St  43.663722 -79.380288   \n",
      "..                                   ...        ...        ...   \n",
      "648  Berkeley St / Adelaide St E - SMART  43.653359 -79.365023   \n",
      "649          Kingston Rd / Ridgemoor Ave  43.706436 -79.251044   \n",
      "650                            Moss Park  43.655972 -79.370638   \n",
      "651                        519 Church St  43.666874 -79.381155   \n",
      "652          York St / Lake Shore Blvd W  43.641952 -79.380723   \n",
      "\n",
      "     bikes_available  \n",
      "0                 13  \n",
      "1                  8  \n",
      "2                  4  \n",
      "3                 10  \n",
      "4                  4  \n",
      "..               ...  \n",
      "648                8  \n",
      "649                5  \n",
      "650               14  \n",
      "651                5  \n",
      "652               17  \n",
      "\n",
      "[653 rows x 4 columns]\n"
     ]
    }
   ],
   "source": [
    "# Copy Station data to dataframe\n",
    "df = pd.DataFrame(station_data)\n",
    "\n",
    "# Print dataframe\n",
    "print(df)\n",
    "\n",
    "# Store results to CSV for following steps\n",
    "df.to_csv('C:/Taslim/LHL/Python Project/citybike.csv')  "
   ]
  }
 ],
 "metadata": {
  "kernelspec": {
   "display_name": "Python 3",
   "language": "python",
   "name": "python3"
  },
  "language_info": {
   "codemirror_mode": {
    "name": "ipython",
    "version": 3
   },
   "file_extension": ".py",
   "mimetype": "text/x-python",
   "name": "python",
   "nbconvert_exporter": "python",
   "pygments_lexer": "ipython3",
   "version": "3.10.9"
  },
  "vscode": {
   "interpreter": {
    "hash": "3dbcf5445ac47b9a2931907ac615ecf8f3b67cbd977950b6889812ffd692de77"
   }
  }
 },
 "nbformat": 4,
 "nbformat_minor": 4
}
