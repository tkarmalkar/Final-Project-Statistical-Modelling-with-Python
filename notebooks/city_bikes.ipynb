{
 "cells": [
  {
   "cell_type": "markdown",
   "metadata": {},
   "source": [
    "# CityBikes"
   ]
  },
  {
   "cell_type": "markdown",
   "metadata": {},
   "source": [
    "Send a request to CityBikes for the city of your choice. "
   ]
  },
  {
   "cell_type": "code",
   "execution_count": 7,
   "metadata": {},
   "outputs": [],
   "source": [
    "import requests\n",
    "import pandas as pd\n",
    "\n",
    "# Make the API request and store the response\n",
    "#City chose is Toronto.\n",
    "response = requests.get(\"http://api.citybik.es/v2/networks/bixi-toronto\")\n",
    "\n",
    "# Convert the JSON response to a Python dictionary\n",
    "data = response.json()\n"
   ]
  },
  {
   "cell_type": "markdown",
   "metadata": {},
   "source": [
    "Parse through the response to get the details you want for the bike stations in that city (latitude, longitude, number of bikes). "
   ]
  },
  {
   "cell_type": "code",
   "execution_count": 8,
   "metadata": {},
   "outputs": [],
   "source": [
    "# Extract the desired information from the response\n",
    "stations = data['network']['stations']\n",
    "\n",
    "# Temporty list to store the station data\n",
    "station_data = []\n",
    "\n",
    "# Extract the information\n",
    "for station in stations:\n",
    "    station_data.append({\n",
    "        \"name\": station[\"name\"],\n",
    "        \"latitude\": station[\"latitude\"],\n",
    "        \"longitude\": station[\"longitude\"],\n",
    "        \"bikes_available\": station[\"free_bikes\"]\n",
    "    })"
   ]
  },
  {
   "cell_type": "markdown",
   "metadata": {},
   "source": [
    "Put your parsed results into a DataFrame."
   ]
  },
  {
   "cell_type": "code",
   "execution_count": 9,
   "metadata": {},
   "outputs": [
    {
     "name": "stdout",
     "output_type": "stream",
     "text": [
      "                                    name   latitude  longitude  \\\n",
      "0              Queen St E / Woodward Ave  43.665269 -79.319796   \n",
      "1            Primrose Ave / Davenport Rd  43.671420 -79.445947   \n",
      "2              Queen St. E / Rhodes Ave.  43.666224 -79.317693   \n",
      "3                   Bond St / Queen St E  43.653236 -79.376716   \n",
      "4               Church St / Alexander St  43.663722 -79.380288   \n",
      "..                                   ...        ...        ...   \n",
      "648            The Pond Rd / Shoreham Dr  43.772445 -79.511912   \n",
      "649  Berkeley St / Adelaide St E - SMART  43.653359 -79.365023   \n",
      "650          Kingston Rd / Ridgemoor Ave  43.706436 -79.251044   \n",
      "651                            Moss Park  43.655972 -79.370638   \n",
      "652                        519 Church St  43.666874 -79.381155   \n",
      "\n",
      "     bikes_available  \n",
      "0                 13  \n",
      "1                  8  \n",
      "2                  3  \n",
      "3                 11  \n",
      "4                  7  \n",
      "..               ...  \n",
      "648                3  \n",
      "649                7  \n",
      "650                5  \n",
      "651               13  \n",
      "652                5  \n",
      "\n",
      "[653 rows x 4 columns]\n"
     ]
    }
   ],
   "source": [
    "# Copy Station data to dataframe\n",
    "df = pd.DataFrame(station_data)\n",
    "\n",
    "# Print dataframe\n",
    "print(df)\n",
    "\n",
    "# Store results to CSV for following steps\n",
    "df.to_csv('c:/Taslim/LHL/Week 3 Project/citybike.csv')  "
   ]
  }
 ],
 "metadata": {
  "kernelspec": {
   "display_name": "base",
   "language": "python",
   "name": "python3"
  },
  "language_info": {
   "codemirror_mode": {
    "name": "ipython",
    "version": 3
   },
   "file_extension": ".py",
   "mimetype": "text/x-python",
   "name": "python",
   "nbconvert_exporter": "python",
   "pygments_lexer": "ipython3",
   "version": "3.9.13"
  },
  "vscode": {
   "interpreter": {
    "hash": "7c266577cd298a2ffa87cbdc5ff2e56ebf39c2cd5fe86fd94a53d49a25c5e754"
   }
  }
 },
 "nbformat": 4,
 "nbformat_minor": 4
}
